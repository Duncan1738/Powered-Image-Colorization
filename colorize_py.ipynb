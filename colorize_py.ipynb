{
  "nbformat": 4,
  "nbformat_minor": 0,
  "metadata": {
    "colab": {
      "provenance": [],
      "authorship_tag": "ABX9TyPaZXDytJuLXaeDrYDStMbN",
      "include_colab_link": true
    },
    "kernelspec": {
      "name": "python3",
      "display_name": "Python 3"
    },
    "language_info": {
      "name": "python"
    }
  },
  "cells": [
    {
      "cell_type": "markdown",
      "metadata": {
        "id": "view-in-github",
        "colab_type": "text"
      },
      "source": [
        "<a href=\"https://colab.research.google.com/github/Duncan1738/Powered-Image-Colorization/blob/main/colorize_py.ipynb\" target=\"_parent\"><img src=\"https://colab.research.google.com/assets/colab-badge.svg\" alt=\"Open In Colab\"/></a>"
      ]
    },
    {
      "cell_type": "code",
      "execution_count": null,
      "metadata": {
        "id": "fETbSFXEJfVw"
      },
      "outputs": [],
      "source": [
        "import cv2\n",
        "import numpy as np\n",
        "import argparse\n",
        "\n",
        "# Load Pretrained Model Files\n",
        "PROTOTXT_PATH = \"colorization_deploy_v2.prototxt\"\n",
        "MODEL_PATH = \"colorization_release_v2.caffemodel\"\n",
        "POINTS_PATH = \"pts_in_hull.npy\"\n",
        "\n",
        "# Load the model\n",
        "net = cv2.dnn.readNetFromCaffe(PROTOTXT_PATH, MODEL_PATH)\n",
        "pts_in_hull = np.load(POINTS_PATH)\n",
        "\n",
        "# Load cluster centers as 1x1 convolution kernel\n",
        "class8 = net.getLayerId(\"class8_ab\")\n",
        "conv8 = net.getLayerId(\"conv8_313_rh\")\n",
        "pts = pts_in_hull.transpose().reshape(2, 313, 1, 1)\n",
        "net.getLayer(class8).blobs = [pts.astype(\"float32\")]\n",
        "net.getLayer(conv8).blobs = [np.full([1, 313], 2.606, dtype=\"float32\")]\n",
        "\n",
        "def colorize_image(image_path, output_path=\"colorized.png\"):\n",
        "    # Load Image\n",
        "    image = cv2.imread(image_path)\n",
        "    image = cv2.cvtColor(image, cv2.COLOR_BGR2LAB)\n",
        "\n",
        "    # Resize and normalize\n",
        "    L = image[:, :, 0]  # Extract L channel\n",
        "    L = cv2.resize(L, (224, 224))\n",
        "    L -= 50  # Normalize\n",
        "\n",
        "    # Process through DNN\n",
        "    net.setInput(cv2.dnn.blobFromImage(L))\n",
        "    ab = net.forward()[0, :, :, :].transpose((1, 2, 0))\n",
        "\n",
        "    # Resize and merge channels\n",
        "    ab = cv2.resize(ab, (image.shape[1], image.shape[0]))\n",
        "    colorized = np.concatenate((image[:, :, 0][:, :, np.newaxis], ab), axis=2)\n",
        "\n",
        "    # Convert back to BGR\n",
        "    colorized = cv2.cvtColor(colorized, cv2.COLOR_LAB2BGR)\n",
        "    colorized = (np.clip(colorized, 0, 255)).astype(\"uint8\")\n",
        "\n",
        "    # Save output\n",
        "    cv2.imwrite(output_path, colorized)\n",
        "    print(f\"✅ Image saved to {output_path}\")\n",
        "\n",
        "# Run script with command-line argument\n",
        "if __name__ == \"__main__\":\n",
        "    parser = argparse.ArgumentParser(description=\"Colorize a black-and-white image\")\n",
        "    parser.add_argument(\"image_path\", help=\"Path to the black and white image\")\n",
        "    args = parser.parse_args()\n",
        "\n",
        "    colorize_image(args.image_path)\n"
      ]
    }
  ]
}